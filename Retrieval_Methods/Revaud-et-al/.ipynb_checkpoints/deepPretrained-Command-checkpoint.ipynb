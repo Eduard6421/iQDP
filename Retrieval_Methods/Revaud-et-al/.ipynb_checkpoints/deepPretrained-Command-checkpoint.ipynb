{
 "cells": [
  {
   "cell_type": "code",
   "execution_count": 9,
   "id": "4a27a9c2-7769-481d-82df-e988bbce0e98",
   "metadata": {
    "tags": []
   },
   "outputs": [
    {
     "name": "stdout",
     "output_type": "stream",
     "text": [
      "env: DB_ROOT=/notebooks/cnnimageretrieval-pytorch/data/test\n"
     ]
    }
   ],
   "source": [
    "%env DB_ROOT=/notebooks/cnnimageretrieval-pytorch/data/test\n",
    "%env DIR_ROOT =/notebooks/deep-image-retrieval/deep-image-retrieval"
   ]
  },
  {
   "cell_type": "code",
   "execution_count": null,
   "id": "4b611840-eb72-479e-b2fa-18ca5b945517",
   "metadata": {
    "tags": []
   },
   "outputs": [
    {
     "name": "stdout",
     "output_type": "stream",
     "text": [
      "Launching on GPUs 0\n",
      "caltech101_700\n",
      "no bbx\n",
      "Test dataset: Dataset: Caltech101_700\n",
      "  8445 images, 700 queries\n",
      "  root: /notebooks/cnnimageretrieval-pytorch/data/test/caltech101...\n",
      "/usr/local/lib/python3.9/dist-packages/sklearn/utils/deprecation.py:144: FutureWarning: The sklearn.decomposition.pca module is  deprecated in version 0.22 and will be removed in version 0.24. The corresponding classes / functions should instead be imported from sklearn.decomposition. Anything that cannot be imported from sklearn.decomposition is now part of the private API.\n",
      "  warnings.warn(message, FutureWarning)\n",
      "/usr/local/lib/python3.9/dist-packages/sklearn/base.py:313: UserWarning: Trying to unpickle estimator PCA from version 0.20.2 when using version 0.22. This might lead to breaking code or invalid results. Use at your own risk.\n",
      "  warnings.warn(\n",
      "=> loading checkpoint '/notebooks/deep-image-retrieval/Resnet101-AP-GeM.pt' (current_iter 296)\n",
      "\n",
      ">> Evaluation...\n",
      "DB:  70%|████████████████████████▎          | 5875/8445 [01:24<00:33, 75.68it/s]"
     ]
    }
   ],
   "source": [
    "!python -m dirtorch.test_dir --dataset 'Caltech101_700' --checkpoint '/notebooks/deep-image-retrieval/Resnet101-AP-GeM.pt'"
   ]
  },
  {
   "cell_type": "code",
   "execution_count": null,
   "id": "682de793-a03a-40d6-8cbf-78532a735d67",
   "metadata": {},
   "outputs": [],
   "source": [
    "!python -m dirtorch.test_dir_drift --dataset 'Caltech101_700' --checkpoint '/notebooks/deep-image-retrieval/Resnet101-AP-GeM.pt'"
   ]
  }
 ],
 "metadata": {
  "kernelspec": {
   "display_name": "Python 3 (ipykernel)",
   "language": "python",
   "name": "python3"
  },
  "language_info": {
   "codemirror_mode": {
    "name": "ipython",
    "version": 3
   },
   "file_extension": ".py",
   "mimetype": "text/x-python",
   "name": "python",
   "nbconvert_exporter": "python",
   "pygments_lexer": "ipython3",
   "version": "3.10.5"
  },
  "vscode": {
   "interpreter": {
    "hash": "5efb5c8d63a54c73d8d27071022adad53c6f3df0ecaf8b2d6fe4415ee6c014ca"
   }
  }
 },
 "nbformat": 4,
 "nbformat_minor": 5
}
