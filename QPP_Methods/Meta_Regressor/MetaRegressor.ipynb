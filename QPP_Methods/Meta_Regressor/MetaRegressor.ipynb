{
 "cells": [
  {
   "cell_type": "code",
   "execution_count": 3,
   "id": "d51587cf-6ecc-47f7-a8f2-b3e07dad8060",
   "metadata": {},
   "outputs": [],
   "source": [
    "import pandas as pd\n",
    "import numpy as np\n",
    "import pickle\n",
    "from sklearn.svm import SVR\n",
    "from sklearn.preprocessing import StandardScaler, normalize\n",
    "from sklearn.svm import NuSVR\n",
    "from scipy import stats\n",
    "from sklearn.model_selection import GridSearchCV"
   ]
  },
  {
   "cell_type": "code",
   "execution_count": 4,
   "id": "b765862c-d103-4002-9191-62b42d7aa2a6",
   "metadata": {},
   "outputs": [],
   "source": [
    "# Objectness\n",
    "# Ionescu et al.\n",
    "# Denosising AE\n",
    "# Masked AE\n",
    "# Cluster Density\n",
    "# ViT\n",
    "# Unmasking\n",
    "# Dispersion\n",
    "# Adaptive Query Feedback\n",
    "# Score Dispeprsion"
   ]
  },
  {
   "cell_type": "code",
   "execution_count": 5,
   "id": "8e415066-99b0-4fda-92f2-d3f68e50601d",
   "metadata": {},
   "outputs": [],
   "source": [
    "from typing import Iterable, Any\n",
    "from itertools import product\n",
    "\n",
    "\n",
    "def grid_parameters(parameters: dict[str, Iterable[Any]]) -> Iterable[dict[str, Any]]:\n",
    "    for params in product(*parameters.values()):\n",
    "        yield dict(zip(parameters.keys(), params))"
   ]
  },
  {
   "cell_type": "code",
   "execution_count": 9,
   "id": "3db6da17-5833-4e99-bdbf-4b795db7a720",
   "metadata": {},
   "outputs": [],
   "source": [
    "def collect_features(methods):\n",
    "    items = []\n",
    "    for i in range(len(methods[0])):\n",
    "        feature_array = []\n",
    "        for method in methods:\n",
    "            feature_array.append(method.iloc[i]['score'])\n",
    "        items.append(feature_array)\n",
    "    return items\n",
    "\n",
    "\n",
    "def classic_normalize(feature_vect):\n",
    "    num_items    = feature_vect.shape[0]\n",
    "    num_features = feature_vect.shape[1]\n",
    "\n",
    "    for feature_idx in range(num_features):\n",
    "        min_value = np.min(feature_vect[:,feature_idx])\n",
    "        max_value = np.max(feature_vect[:,feature_idx])\n",
    "        feature_vect[:,feature_idx]  -= min_value\n",
    "        feature_vect[:,feature_idx] /= (max_value - min_value)\n",
    "    \n",
    "    return feature_vect\n",
    "        \n",
    "\n",
    "def run_meta(DATASET_NAME, RETRIEVAL_METHOD, METRIC , LEVEL, FOLD_PATH):\n",
    "    ground_truth = pd.read_csv('../../Results/{}-{}-{}.csv'.format(RETRIEVAL_METHOD,DATASET_NAME,METRIC))\n",
    "    objectness            = pd.read_csv('../../Results/objectness-results-{}.csv'.format(DATASET_NAME))\n",
    "    ietal                 = pd.read_csv('../../Results/ionescu-et-al-{}.csv'.format(DATASET_NAME))\n",
    "    denoising_autoencoder = pd.read_csv('../../Results/denoising-autoencoder-{}.csv'.format(DATASET_NAME))\n",
    "    masked_autoencoder    = pd.read_csv('../../Results/masked-autoencoder-{}.csv'.format(DATASET_NAME))\n",
    "    cluster_density       = pd.read_csv('../../Results/preretrieval-{}-{}.csv'.format(RETRIEVAL_METHOD,DATASET_NAME))\n",
    "    vit_regressor         = pd.read_csv('../../Results/vitregressor-{}-{}-{}.csv'.format(RETRIEVAL_METHOD,DATASET_NAME,METRIC))\n",
    "    unmasking             = pd.read_csv('../../Results/unmasking-{}-{}.csv'.format(RETRIEVAL_METHOD,DATASET_NAME))\n",
    "    emb_dispersion        = pd.read_csv('../../Results/postretrieval-{}-{}-{}.csv'.format(RETRIEVAL_METHOD,DATASET_NAME,LEVEL))\n",
    "    score_dispersion      = pd.read_csv('../../Results/score-dispersion-{}-{}-{}.csv'.format(RETRIEVAL_METHOD,DATASET_NAME,LEVEL))\n",
    "    adaptive_qf           = pd.read_csv('../../Results/adaptivequery-{}-{}-100.csv'.format(RETRIEVAL_METHOD,DATASET_NAME))    \n",
    "    sunetal               = pd.read_csv('../../Results/sunetal-{}-{}-{}.csv'.format(RETRIEVAL_METHOD,DATASET_NAME,METRIC))\n",
    "    \n",
    "    \n",
    "    methods = [\n",
    "    objectness,\n",
    "    ietal,\n",
    "    denoising_autoencoder,\n",
    "    masked_autoencoder,\n",
    "    cluster_density,\n",
    "    vit_regressor,\n",
    "    unmasking,\n",
    "    emb_dispersion,\n",
    "    score_dispersion,\n",
    "    adaptive_qf\n",
    "    ]\n",
    "    \n",
    "    \n",
    "    input_features  = np.array(collect_features(methods))\n",
    "    paths  = np.array(ground_truth['path'].tolist())\n",
    "    outputs = np.array(ground_truth['score'].tolist())  \n",
    "    \n",
    "    fold_file = open(FOLD_PATH, 'rb')\n",
    "    folds = pickle.load(fold_file)    \n",
    "    \n",
    "    score_dict = {}\n",
    "    \n",
    "    input_features = classic_normalize(input_features)\n",
    "    outputs        = classic_normalize(outputs.reshape(-1,1))\n",
    "    \n",
    "    C, nu, best_score = hyperparameter_search(folds, input_features, outputs)\n",
    "    \n",
    "    print(\"{} - {} - {} :   C = {} and nu = {} with score {}\".format(DATASET_NAME, RETRIEVAL_METHOD, METRIC, C, nu, best_score))\n",
    "    \n",
    "    for i, (train_index, test_index) in enumerate(folds):\n",
    "        \n",
    "        train_data,train_scores = input_features[train_index],outputs[train_index]    \n",
    "        test_data,test_scores  = input_features[test_index],outputs[test_index]\n",
    "        test_paths = paths[test_index]\n",
    "        \n",
    "\n",
    "        model = NuSVR(kernel='rbf',nu = nu,C = C)\n",
    "        model.fit(train_data,train_scores.squeeze(1))\n",
    "        score = model.predict(test_data)\n",
    "        \n",
    "        for path_id, path in enumerate(test_paths):\n",
    "            score_dict[path] = score[path_id]\n",
    "        \n",
    "    scores = []\n",
    "    for path in paths:\n",
    "        scores.append(score_dict[path])        \n",
    "        \n",
    "    result_path = '../../Results/metaregressor-{}-{}-{}.csv'.format(RETRIEVAL_METHOD,DATASET_NAME,METRIC)\n",
    "    result_df = pd.DataFrame({'path': paths, 'score': scores})\n",
    "    result_df.to_csv(result_path,index=False)\n",
    "    \n",
    "def hyperparameter_search(folds, input_features, outputs):\n",
    "    \n",
    "    best_corr = 0\n",
    "    best_C = None\n",
    "    best_nu = None\n",
    "    \n",
    "    for C in [0.1,1,10,100,1000]:\n",
    "        for nu in np.arange(0.1,1,0.1):\n",
    "            #print(\"C : {}, nu : {}\".format(C,nu))\n",
    "            \n",
    "            all_predictions = np.zeros(len(outputs))\n",
    "            \n",
    "            for i, (train_index, test_index) in enumerate(folds):\n",
    "\n",
    "                train_data,train_scores = input_features[train_index],outputs[train_index]    \n",
    "                test_data,test_scores  = input_features[test_index],outputs[test_index]                \n",
    "    \n",
    "                model = NuSVR(kernel='rbf',nu = nu,C = C)\n",
    "                model.fit(train_data,train_scores.squeeze(1))\n",
    "            \n",
    "                predictions = model.predict(test_data)\n",
    "                \n",
    "                all_predictions[test_index] = predictions\n",
    "\n",
    "            tau, p_value = stats.kendalltau(all_predictions, outputs)\n",
    "            \n",
    "            if(tau > best_corr):\n",
    "                best_corr = tau\n",
    "                best_C = C\n",
    "                best_nu = nu\n",
    "    return best_C, best_nu, best_corr"
   ]
  },
  {
   "cell_type": "raw",
   "id": "bbd8d934-89e7-4c1f-b241-21d5b12a5b53",
   "metadata": {},
   "source": [
    "pearson, pearson_p_value = stats.pearsonr(score,outputs[test_index].squeeze(1))\n",
    "tau, p_value = stats.kendalltau(score,outputs[test_index].squeeze(1))\n",
    "        print(\"Fold {}\".format(i+1))\n",
    "        print(\"pearson: {} / p-value: {}\".format(pearson,pearson_p_value))\n",
    "        print(\"tau: {}  / p-value: {}\".format(tau, p_value))"
   ]
  },
  {
   "cell_type": "code",
   "execution_count": 10,
   "id": "71f850ce-f4e2-4805-9ce3-bf542d25037b",
   "metadata": {},
   "outputs": [],
   "source": [
    "DATASET_NAMES = ['caltech101_700',]\n",
    "RETRIEVAL_METHODS = ['cnnimageretrieval','deepretrieval']\n",
    "METRICS = ['ap']\n",
    "LEVELS = ['100']"
   ]
  },
  {
   "cell_type": "code",
   "execution_count": 11,
   "id": "6db41431-a156-461c-b419-aa527c8183e7",
   "metadata": {},
   "outputs": [
    {
     "name": "stdout",
     "output_type": "stream",
     "text": [
      "caltech101_700 - cnnimageretrieval - ap :   C = 1 and nu = 0.9 with score 0.5347059148225263\n",
      "caltech101_700 - deepretrieval - ap :   C = 1 and nu = 0.8 with score 0.5719377557282838\n"
     ]
    }
   ],
   "source": [
    "for dataset_name in DATASET_NAMES:\n",
    "    for method in RETRIEVAL_METHODS:\n",
    "        for metric in METRICS:\n",
    "            for level in LEVELS:\n",
    "                folder_path = '../../Folds/{}-folds.pkl'.format(dataset_name)\n",
    "                run_meta(dataset_name, method, metric, level,folder_path)"
   ]
  },
  {
   "cell_type": "code",
   "execution_count": null,
   "id": "95e6c3f5-3cd4-475c-b86f-583059b2b198",
   "metadata": {},
   "outputs": [],
   "source": []
  },
  {
   "cell_type": "code",
   "execution_count": null,
   "id": "5619dcf5-6d50-4ce7-9035-0a90d55d9940",
   "metadata": {},
   "outputs": [],
   "source": []
  },
  {
   "cell_type": "code",
   "execution_count": null,
   "id": "b17be99e-89ea-4e00-8bf9-b2b9e41fef98",
   "metadata": {},
   "outputs": [],
   "source": []
  },
  {
   "cell_type": "code",
   "execution_count": null,
   "id": "8ce96436-238b-4479-96ba-b482377b8383",
   "metadata": {},
   "outputs": [],
   "source": []
  },
  {
   "cell_type": "code",
   "execution_count": null,
   "id": "66972fcf-1617-4612-936e-6768df55a650",
   "metadata": {},
   "outputs": [],
   "source": []
  }
 ],
 "metadata": {
  "kernelspec": {
   "display_name": "Python 3",
   "language": "python",
   "name": "python3"
  },
  "language_info": {
   "codemirror_mode": {
    "name": "ipython",
    "version": 3
   },
   "file_extension": ".py",
   "mimetype": "text/x-python",
   "name": "python",
   "nbconvert_exporter": "python",
   "pygments_lexer": "ipython3",
   "version": "3.10.5"
  },
  "vscode": {
   "interpreter": {
    "hash": "5efb5c8d63a54c73d8d27071022adad53c6f3df0ecaf8b2d6fe4415ee6c014ca"
   }
  }
 },
 "nbformat": 4,
 "nbformat_minor": 5
}
