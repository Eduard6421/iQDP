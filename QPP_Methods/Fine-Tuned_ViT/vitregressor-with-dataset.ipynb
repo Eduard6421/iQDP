{
 "cells": [
  {
   "cell_type": "code",
   "execution_count": 2,
   "id": "0aff384c-b017-4721-9fa4-07275e44cc95",
   "metadata": {},
   "outputs": [],
   "source": [
    "import torch\n",
    "import pandas as pd\n",
    "import torch.nn as nn\n",
    "import pandas as pd\n",
    "import numpy as np\n",
    "import pickle\n",
    "\n",
    "from torchvision.models import vit_b_32\n",
    "from torch.utils.data import Dataset, DataLoader\n",
    "from sklearn.model_selection import train_test_split\n",
    "from torchvision.models import ViT_B_32_Weights\n",
    "from torch.utils.data import DataLoader, Dataset,DataLoader,random_split\n",
    "from torch.optim import Adam\n",
    "from PIL import Image\n",
    "from sklearn.model_selection import KFold\n",
    "from torchvision.transforms import Resize,Compose, ToTensor"
   ]
  },
  {
   "cell_type": "code",
   "execution_count": 3,
   "id": "46b81980-ded3-4a39-98aa-3e129b3b913b",
   "metadata": {},
   "outputs": [
    {
     "name": "stdout",
     "output_type": "stream",
     "text": [
      "Currently running on cuda\n"
     ]
    }
   ],
   "source": [
    "# -------------------------------------------------------- Global settings --------------------------------------------------------------\n",
    "device = torch.device(\"cuda\" if torch.cuda.is_available() else \"cpu\")\n",
    "print(f\"Currently running on {device}\".format())\n",
    "\n",
    "\n",
    "TRAIN_PERCENT = 0.8\n",
    "VALIDATION_PERCENT = 0.1\n",
    "BATCH_SIZE = 64\n",
    "RESHAPE_SIZE = 512\n",
    "NUM_EPOCHS = 25\n",
    "LR = 0.0001\n",
    "#LR = 0.00001"
   ]
  },
  {
   "cell_type": "code",
   "execution_count": 4,
   "id": "9b9faabe-65d9-4ad0-9ede-5a8206282326",
   "metadata": {},
   "outputs": [],
   "source": [
    "# -------------------------------------------------------- Custom Transforms --------------------------------------------------------------\n",
    "\n",
    "class ExpandDimension(object):\n",
    "    def __call__(self, sample):\n",
    "        if(sample.shape[0] == 1):\n",
    "            sample = sample.repeat(3,1,1)\n",
    "        return sample"
   ]
  },
  {
   "cell_type": "code",
   "execution_count": 5,
   "id": "f1e90446-7981-43b6-ba4b-2180d10b25e1",
   "metadata": {},
   "outputs": [],
   "source": [
    "content_transform = Compose([ViT_B_32_Weights.IMAGENET1K_V1.transforms()])\n",
    "expand_dims_transform = Compose([ToTensor(),ExpandDimension()])"
   ]
  },
  {
   "cell_type": "code",
   "execution_count": 6,
   "id": "d273a1bb-e47b-4b27-b74c-285dd947756e",
   "metadata": {},
   "outputs": [],
   "source": [
    "class DifficultyDataset(Dataset):\n",
    "\n",
    "    def __init__(self, csv_file_path, transform=None):\n",
    "        self.scores_df = pd.read_csv(csv_file_path)\n",
    "        self.image_paths = self.scores_df['path'].tolist()\n",
    "        self.scores = self.scores_df['score'].tolist()\n",
    "\n",
    "    def __len__(self):\n",
    "        return len(self.scores)\n",
    "\n",
    "    def __getitem__(self, idx):\n",
    "        if torch.is_tensor(idx):\n",
    "            idx = idx.tolist()\n",
    "\n",
    "        img_path = self.image_paths[idx]\n",
    "        image = Image.open(img_path)\n",
    "        \n",
    "        if(transform):\n",
    "            image = expand_dims_transform(image)\n",
    "            image = transform(image)\n",
    "        \n",
    "        score = torch.tensor(self.scores[idx])\n",
    "\n",
    "        return image,score,img_path"
   ]
  },
  {
   "cell_type": "code",
   "execution_count": 7,
   "id": "e088fbd6-fa69-4b38-bdbb-435aad596612",
   "metadata": {},
   "outputs": [],
   "source": [
    "train_dataset = DifficultyDataset('/../../Results/deepretrieval-caltech101_700_train-p@100.csv', transform=content_transform)\n",
    "test_dataset = DifficultyDataset('/../../Results/deepretrieval-caltech101_700-p@100.csv', transform=content_transform)\n",
    "gt_file = pd.read_csv('/../../Results/deepretrieval-caltech101_700-p@100.csv')"
   ]
  },
  {
   "cell_type": "code",
   "execution_count": 8,
   "id": "df9fae79-669c-44a9-bf0d-6a8be275f942",
   "metadata": {},
   "outputs": [],
   "source": [
    "vit_model = vit_b_32(weights=ViT_B_32_Weights.DEFAULT)\n",
    "regression_head = torch.nn.Sequential(\n",
    "    torch.nn.Linear(in_features = 768 , out_features = 1),\n",
    "    torch.nn.Sigmoid())\n",
    "vit_model.heads = regression_head\n",
    "\n",
    "transform = ViT_B_32_Weights.IMAGENET1K_V1.transforms()\n",
    "vit_model = vit_model.to(device)"
   ]
  },
  {
   "cell_type": "code",
   "execution_count": 9,
   "id": "acf47752-b19e-4aa3-8482-dfaf86dcf8a5",
   "metadata": {},
   "outputs": [],
   "source": [
    "train_size = int(TRAIN_PERCENT*int(len(train_dataset)))\n",
    "validation_size = len(train_dataset) - train_size\n",
    "\n",
    "train_dataset, validation_dataset = random_split(train_dataset, lengths=[train_size,validation_size],generator=torch.Generator().manual_seed(420))\n",
    "\n",
    "train_dataloader = DataLoader(train_dataset, batch_size=BATCH_SIZE, shuffle=True)\n",
    "validation_dataloader = DataLoader(validation_dataset, batch_size=BATCH_SIZE, shuffle=True)"
   ]
  },
  {
   "cell_type": "code",
   "execution_count": 10,
   "id": "a49d4a3e-2e35-4c37-a6b4-becaf45a5e98",
   "metadata": {},
   "outputs": [],
   "source": [
    "test_dataloader = DataLoader(test_dataset, batch_size = 1, shuffle=True)"
   ]
  },
  {
   "cell_type": "code",
   "execution_count": 11,
   "id": "25eac7dd-129e-41cc-a67f-06cc18e09e56",
   "metadata": {},
   "outputs": [],
   "source": [
    "criterion = torch.nn.MSELoss()\n",
    "optimizer = Adam(vit_model.parameters(), lr=LR)"
   ]
  },
  {
   "cell_type": "code",
   "execution_count": 12,
   "id": "4ac3923c-bc81-47f1-a58f-29b6522c9ea9",
   "metadata": {},
   "outputs": [],
   "source": [
    "def compute_loss(model , loader):\n",
    "    \n",
    "    total_loss = 0.0\n",
    "    \n",
    "    with torch.no_grad():\n",
    "        for idx,data in enumerate(loader):\n",
    "            images, scores, path = data\n",
    "            \n",
    "            images = images.to(device)\n",
    "            scores = scores.to(device).unsqueeze(1)\n",
    "            \n",
    "            outputs = model(images)\n",
    "            \n",
    "            loss = criterion(outputs, scores)\n",
    "            total_loss += loss.item()\n",
    "    \n",
    "    total_loss /= len(loader)\n",
    "    \n",
    "    return total_loss"
   ]
  },
  {
   "cell_type": "code",
   "execution_count": 13,
   "id": "b34d5dec-f7f0-4850-a2b4-4030e2d63a7d",
   "metadata": {},
   "outputs": [],
   "source": [
    "def train_model(model, train_dataloader, validation_dataloader, optimizer , criterion):\n",
    "    \n",
    "    max_loss = 1000\n",
    "    for i in range(NUM_EPOCHS):\n",
    "        print(\"Epoch num {}/{}\".format(i+1,NUM_EPOCHS))\n",
    "        \n",
    "        epoch_train_loss = 0\n",
    "        \n",
    "        for idx, data in enumerate(train_dataloader):\n",
    "            #print(\"Batch num {}/{}\".format(idx+1, len(train_dataloader)))\n",
    " \n",
    "            (images,scores,path) = data\n",
    "    \n",
    "            images = images.to(device)\n",
    "            scores = scores.to(device).unsqueeze(1)\n",
    "            \n",
    "            optimizer.zero_grad()\n",
    "            \n",
    "            outputs = model(images)\n",
    "            loss = criterion(scores, outputs)\n",
    "            \n",
    "\n",
    "            loss.backward()\n",
    "            optimizer.step()\n",
    "            \n",
    "            epoch_train_loss += loss.item()\n",
    "            \n",
    "        epoch_train_loss /= len(train_dataloader)\n",
    "        validation_loss = compute_loss(model, validation_dataloader)\n",
    "        \n",
    "        print(\"Epoch train loss {}\".format(epoch_train_loss))\n",
    "        print(\"Epoch validation loss {}\".format(validation_loss))"
   ]
  },
  {
   "cell_type": "code",
   "execution_count": 14,
   "id": "8bacf5fa-2428-49d2-8c2a-860f77bc7e68",
   "metadata": {},
   "outputs": [
    {
     "name": "stdout",
     "output_type": "stream",
     "text": [
      "Epoch num 1/25\n",
      "Epoch train loss 0.08827982304824723\n",
      "Epoch validation loss 0.05152933423717817\n",
      "Epoch num 2/25\n",
      "Epoch train loss 0.05785697574416796\n",
      "Epoch validation loss 0.055617623031139374\n",
      "Epoch num 3/25\n",
      "Epoch train loss 0.05545650629533662\n",
      "Epoch validation loss 0.05751607194542885\n",
      "Epoch num 4/25\n",
      "Epoch train loss 0.054071752147542104\n",
      "Epoch validation loss 0.05942155917485555\n",
      "Epoch num 5/25\n",
      "Epoch train loss 0.053265479703744255\n",
      "Epoch validation loss 0.07292788351575534\n",
      "Epoch num 6/25\n",
      "Epoch train loss 0.0508059598505497\n",
      "Epoch validation loss 0.05418908968567848\n",
      "Epoch num 7/25\n",
      "Epoch train loss 0.051250393191973366\n",
      "Epoch validation loss 0.06263039509455363\n",
      "Epoch num 8/25\n",
      "Epoch train loss 0.04543604681061374\n",
      "Epoch validation loss 0.058888014405965805\n",
      "Epoch num 9/25\n",
      "Epoch train loss 0.02703450744350751\n",
      "Epoch validation loss 0.04318238546450933\n",
      "Epoch num 10/25\n",
      "Epoch train loss 0.02033371799108055\n",
      "Epoch validation loss 0.04568938662608465\n",
      "Epoch num 11/25\n",
      "Epoch train loss 0.012489384557637904\n",
      "Epoch validation loss 0.04791908462842306\n",
      "Epoch num 12/25\n",
      "Epoch train loss 0.00783222158335977\n",
      "Epoch validation loss 0.05831372986237208\n",
      "Epoch num 13/25\n",
      "Epoch train loss 0.005475013516843319\n",
      "Epoch validation loss 0.03920309338718653\n",
      "Epoch num 14/25\n",
      "Epoch train loss 0.00359756944494115\n",
      "Epoch validation loss 0.042742921660343804\n",
      "Epoch num 15/25\n",
      "Epoch train loss 0.0024037271375871366\n",
      "Epoch validation loss 0.040182127306858696\n",
      "Epoch num 16/25\n",
      "Epoch train loss 0.0016973082804017598\n",
      "Epoch validation loss 0.05433151498436928\n",
      "Epoch num 17/25\n",
      "Epoch train loss 0.0010060971124201184\n",
      "Epoch validation loss 0.04330887024601301\n",
      "Epoch num 18/25\n",
      "Epoch train loss 0.0006066362580491437\n",
      "Epoch validation loss 0.04055775391558806\n",
      "Epoch num 19/25\n",
      "Epoch train loss 0.0004574891968837215\n",
      "Epoch validation loss 0.043420581767956413\n",
      "Epoch num 20/25\n",
      "Epoch train loss 0.000332278751658224\n",
      "Epoch validation loss 0.038200762743751206\n",
      "Epoch num 21/25\n",
      "Epoch train loss 0.0002946300212190383\n",
      "Epoch validation loss 0.04698373625675837\n",
      "Epoch num 22/25\n",
      "Epoch train loss 0.0002559060877602961\n",
      "Epoch validation loss 0.04130863895018896\n",
      "Epoch num 23/25\n",
      "Epoch train loss 0.00021848791948286816\n",
      "Epoch validation loss 0.041398649414380394\n",
      "Epoch num 24/25\n",
      "Epoch train loss 0.00020103754973711653\n",
      "Epoch validation loss 0.04087929675976435\n",
      "Epoch num 25/25\n",
      "Epoch train loss 0.0002007930088439025\n",
      "Epoch validation loss 0.04405710225303968\n"
     ]
    }
   ],
   "source": [
    "vit_model.train()\n",
    "train_model(vit_model, train_dataloader,validation_dataloader,optimizer, criterion)"
   ]
  },
  {
   "cell_type": "code",
   "execution_count": 15,
   "id": "6a549272-8581-4410-88f2-99c3e71bcce7",
   "metadata": {},
   "outputs": [],
   "source": [
    "score_dict = {}\n",
    "vit_model.eval()\n",
    "for (image, score , path) in test_dataloader:\n",
    "    image = image.to(device)\n",
    "    output = vit_model(image)\n",
    "    score_dict[path[0]] = output.item()"
   ]
  },
  {
   "cell_type": "code",
   "execution_count": 16,
   "id": "95b57e45-aeb2-413a-962c-fffcacbf008c",
   "metadata": {},
   "outputs": [],
   "source": [
    "paths = gt_file.values.tolist()\n",
    "paths = [path[0] for path in paths]"
   ]
  },
  {
   "cell_type": "code",
   "execution_count": 17,
   "id": "6d3f6739-be79-4604-88df-fa9b39f74d17",
   "metadata": {},
   "outputs": [],
   "source": [
    "scores = []\n",
    "for path in paths:\n",
    "    scores.append(score_dict[path])"
   ]
  },
  {
   "cell_type": "code",
   "execution_count": 18,
   "id": "023b59d1-f61d-4cef-b5ea-b52ba0934c8a",
   "metadata": {},
   "outputs": [],
   "source": [
    "result_df = pd.DataFrame({'path': paths, 'score': scores})\n",
    "result_df.to_csv('/../../Results/vitregressor-deepretrieval-caltech101_700-p@100.csv',index=False)"
   ]
  },
  {
   "cell_type": "code",
   "execution_count": null,
   "id": "acbcfe96-ef1d-4545-8ee0-bba31af333d4",
   "metadata": {},
   "outputs": [],
   "source": []
  },
  {
   "cell_type": "code",
   "execution_count": null,
   "id": "effe70dc-855c-497c-a02e-039acdbf897a",
   "metadata": {},
   "outputs": [],
   "source": []
  },
  {
   "cell_type": "code",
   "execution_count": null,
   "id": "8b227e46-32ce-49d4-960f-c55fc3be7578",
   "metadata": {},
   "outputs": [],
   "source": []
  },
  {
   "cell_type": "code",
   "execution_count": null,
   "id": "f24b8584-64a2-4b11-956c-9109a8a77285",
   "metadata": {},
   "outputs": [],
   "source": []
  }
 ],
 "metadata": {
  "kernelspec": {
   "display_name": "Julia 1.8.3",
   "language": "julia",
   "name": "julia-1.8"
  },
  "language_info": {
   "codemirror_mode": {
    "name": "ipython",
    "version": 3
   },
   "file_extension": ".py",
   "mimetype": "text/x-python",
   "name": "julia",
   "nbconvert_exporter": "python",
   "pygments_lexer": "ipython3",
   "version": "3.10.5"
  },
  "vscode": {
   "interpreter": {
    "hash": "5efb5c8d63a54c73d8d27071022adad53c6f3df0ecaf8b2d6fe4415ee6c014ca"
   }
  }
 },
 "nbformat": 4,
 "nbformat_minor": 5
}
