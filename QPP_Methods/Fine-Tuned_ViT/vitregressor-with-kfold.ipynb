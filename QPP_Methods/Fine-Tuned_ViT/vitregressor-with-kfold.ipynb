{
 "cells": [
  {
   "cell_type": "code",
   "execution_count": 1,
   "id": "0aff384c-b017-4721-9fa4-07275e44cc95",
   "metadata": {},
   "outputs": [],
   "source": [
    "import torch\n",
    "import pandas as pd\n",
    "import torch.nn as nn\n",
    "import pandas as pd\n",
    "import numpy as np\n",
    "import pickle\n",
    "\n",
    "from torchvision.models import vit_b_32\n",
    "from torch.utils.data import Dataset, DataLoader\n",
    "from sklearn.model_selection import train_test_split\n",
    "from torchvision.models import ViT_B_32_Weights\n",
    "from torch.utils.data import DataLoader, Dataset,DataLoader,random_split\n",
    "from torch.optim import Adam\n",
    "from PIL import Image\n",
    "from torchvision.transforms import Resize,Compose, ToTensor"
   ]
  },
  {
   "cell_type": "code",
   "execution_count": 2,
   "id": "ddd57668-a606-42df-9ccc-897898669016",
   "metadata": {},
   "outputs": [
    {
     "name": "stdout",
     "output_type": "stream",
     "text": [
      "Currently running on cuda\n"
     ]
    }
   ],
   "source": [
    "# -------------------------------------------------------- Global settings --------------------------------------------------------------\n",
    "device = torch.device(\"cuda\" if torch.cuda.is_available() else \"cpu\")\n",
    "print(f\"Currently running on {device}\".format())\n",
    "\n",
    "BATCH_SIZE = 8\n",
    "RESHAPE_SIZE = 512\n",
    "NUM_EPOCHS = 50\n",
    "GND_FILEPATH = '/../../Results/deepretrieval-rparis6k-ap.csv'\n",
    "FOLD_PATH = '/../../Folds/rparis6k-folds.pkl'"
   ]
  },
  {
   "cell_type": "code",
   "execution_count": 3,
   "id": "305e0930-a4c8-497f-bfd5-3f44b56122ee",
   "metadata": {},
   "outputs": [],
   "source": [
    "def compute_loss(model , loader):\n",
    "    \n",
    "    total_loss = 0.0\n",
    "    \n",
    "    with torch.no_grad():\n",
    "        for data in loader:\n",
    "            images, scores, paths = data\n",
    "            \n",
    "            images = images.to(device,dtype=torch.float)\n",
    "            scores = scores.to(device).unsqueeze(1)\n",
    "            \n",
    "            outputs = model(images)\n",
    "            \n",
    "            loss = criterion(outputs, scores)\n",
    "            total_loss += loss.item()\n",
    "    \n",
    "    total_loss /= len(loader)\n",
    "    \n",
    "    return total_loss"
   ]
  },
  {
   "cell_type": "code",
   "execution_count": 4,
   "id": "2c645df4-8d48-47dc-963c-6a17babe4bbb",
   "metadata": {},
   "outputs": [],
   "source": [
    "def train_model(model, train_dataloader, validation_dataloader, optimizer , criterion):\n",
    "    \n",
    "    min_loss = 1000\n",
    "    for i in range(NUM_EPOCHS):\n",
    "        \n",
    "        epoch_train_loss = 0\n",
    "        \n",
    "        for idx, data in enumerate(train_dataloader):\n",
    "            #print(\"Batch num {}/{}\".format(idx+1, len(train_dataloader)))\n",
    " \n",
    "            (images,scores,img_path) = data\n",
    "    \n",
    "            images = images.to(device)\n",
    "            scores = scores.to(device).unsqueeze(1)\n",
    "            \n",
    "            optimizer.zero_grad()\n",
    "            \n",
    "            outputs = model(images)\n",
    "            loss = criterion(scores, outputs)\n",
    "\n",
    "            loss.backward()\n",
    "            optimizer.step()\n",
    "            \n",
    "            epoch_train_loss += loss.item()\n",
    "            \n",
    "        epoch_train_loss /= len(train_dataloader)\n",
    "        epoch_validation_loss = compute_loss(model, validation_dataloader)\n",
    "        \n",
    "        if(i % 1== 0):\n",
    "            print(\"Epoch num {}/{}\".format(i+1,NUM_EPOCHS))\n",
    "            print(\"Epoch train loss {}\".format(epoch_train_loss))\n",
    "            print(\"Epoch validation loss {}\".format(epoch_validation_loss))"
   ]
  },
  {
   "cell_type": "code",
   "execution_count": 5,
   "id": "3c8b6ab8-906a-4d88-afec-43ecb020fd4e",
   "metadata": {},
   "outputs": [],
   "source": [
    "class DifficultyFoldDataset(Dataset):\n",
    "\n",
    "    def __init__(self, data, transform=None):\n",
    "        self.image_paths = data[:,0]\n",
    "        self.scores = data[:,1]\n",
    "        self.transform = transform\n",
    "\n",
    "    def __len__(self):\n",
    "        return len(self.scores)\n",
    "\n",
    "    def __getitem__(self, idx):\n",
    "\n",
    "        img_path = self.image_paths[idx]\n",
    "        image = Image.open(img_path)\n",
    "        \n",
    "        if(self.transform):\n",
    "            image = self.transform(image)\n",
    "        \n",
    "        score = torch.tensor(float(self.scores[idx]))\n",
    "\n",
    "        return (image, score, img_path)"
   ]
  },
  {
   "cell_type": "code",
   "execution_count": 6,
   "id": "a8fb09ec-7462-4644-9236-50adf237dd8b",
   "metadata": {},
   "outputs": [],
   "source": [
    "content_transform = Compose([ViT_B_32_Weights.IMAGENET1K_V1.transforms()])"
   ]
  },
  {
   "cell_type": "code",
   "execution_count": 7,
   "id": "3f56ca63-16f7-4d48-92cb-60b90fa50f51",
   "metadata": {},
   "outputs": [],
   "source": [
    "train_df = pd.read_csv(GND_FILEPATH)\n",
    "dataset = np.array(train_df[['path','score']].values.tolist())\n",
    "to_tensor = ToTensor()"
   ]
  },
  {
   "cell_type": "code",
   "execution_count": 8,
   "id": "fb08d640-48f7-4f93-bd45-a10bbeb500e1",
   "metadata": {},
   "outputs": [],
   "source": [
    "fold_file = open(FOLD_PATH, 'rb')\n",
    "folds = pickle.load(fold_file)"
   ]
  },
  {
   "cell_type": "code",
   "execution_count": null,
   "id": "1fc22669-17e9-459d-b00a-911ffb42391b",
   "metadata": {},
   "outputs": [],
   "source": [
    "score_dict = {}\n",
    "for i, (train_index, test_index) in enumerate(folds):\n",
    "    train_data = np.array(dataset[train_index])\n",
    "    test_data  = np.array(dataset[test_index])\n",
    "    \n",
    "    train_dataset = DifficultyFoldDataset(train_data, content_transform)\n",
    "    test_dataset  = DifficultyFoldDataset(test_data, content_transform)\n",
    "    \n",
    "    vit_model = vit_b_32(weights=ViT_B_32_Weights.DEFAULT)\n",
    "    regression_head = torch.nn.Sequential(\n",
    "        torch.nn.Linear(in_features = 768 , out_features = 1),\n",
    "        torch.nn.Sigmoid())\n",
    "    vit_model.heads = regression_head\n",
    "    vit_model = vit_model.to(device)  \n",
    "    vit_model.train()\n",
    "    \n",
    "    train_dataloader = DataLoader(train_dataset, batch_size=BATCH_SIZE, shuffle=False)\n",
    "    test_dataloader = DataLoader(test_dataset, batch_size=BATCH_SIZE, shuffle=False)    \n",
    "    \n",
    "    criterion = torch.nn.MSELoss()\n",
    "    optimizer = Adam(vit_model.parameters(), lr=0.0001)\n",
    "    train_model(vit_model, train_dataloader,test_dataloader, optimizer, criterion)\n",
    "    vit_model.eval()\n",
    "    for item in test_dataset:\n",
    "        image, score, path = item\n",
    "        score = vit_model(image.unsqueeze(0).to(device))\n",
    "        score_dict[path] = score"
   ]
  },
  {
   "cell_type": "code",
   "execution_count": 10,
   "id": "9b81fef9-20d8-43af-990b-1ebade875180",
   "metadata": {},
   "outputs": [],
   "source": [
    "paths = train_df[['path']].values.tolist()\n",
    "paths = [path[0] for path in paths]"
   ]
  },
  {
   "cell_type": "code",
   "execution_count": 11,
   "id": "fc993f1b-1a43-4b0d-9d4a-969039fdf4d5",
   "metadata": {},
   "outputs": [],
   "source": [
    "scores = []\n",
    "for path in paths:\n",
    "    scores.append(float(score_dict[path].detach().cpu()))"
   ]
  },
  {
   "cell_type": "code",
   "execution_count": 12,
   "id": "46bd0eda-f728-429d-b052-79ca8128bede",
   "metadata": {},
   "outputs": [],
   "source": [
    "result_df = pd.DataFrame({'path': paths, 'score': scores})\n",
    "result_df.to_csv('/../../Results/vitregressor-deepretrieval-rparis6k-ap.csv',index=False)"
   ]
  },
  {
   "cell_type": "code",
   "execution_count": null,
   "id": "d4a664c4-7647-4209-9ad7-07d5a5d7b091",
   "metadata": {},
   "outputs": [],
   "source": []
  }
 ],
 "metadata": {
  "kernelspec": {
   "display_name": "Python 3",
   "language": "python",
   "name": "python3"
  },
  "language_info": {
   "codemirror_mode": {
    "name": "ipython",
    "version": 3
   },
   "file_extension": ".py",
   "mimetype": "text/x-python",
   "name": "python",
   "nbconvert_exporter": "python",
   "pygments_lexer": "ipython3",
   "version": "3.10.5"
  },
  "vscode": {
   "interpreter": {
    "hash": "5efb5c8d63a54c73d8d27071022adad53c6f3df0ecaf8b2d6fe4415ee6c014ca"
   }
  }
 },
 "nbformat": 4,
 "nbformat_minor": 5
}
