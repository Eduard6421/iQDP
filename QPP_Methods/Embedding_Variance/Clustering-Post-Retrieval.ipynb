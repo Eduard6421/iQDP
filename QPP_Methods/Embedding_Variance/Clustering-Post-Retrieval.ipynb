{
 "cells": [
  {
   "cell_type": "code",
   "execution_count": null,
   "id": "201ba583-1cbb-4799-9dcc-0b904efe6c96",
   "metadata": {},
   "outputs": [],
   "source": [
    "import pandas as pd\n",
    "import numpy as np\n",
    "from sklearn.cluster import KMeans\n",
    "from sklearn.datasets import make_blobs\n",
    "from sklearn.metrics.pairwise import euclidean_distances\n",
    "from sklearn.metrics import silhouette_samples\n",
    "\n",
    "from ast import literal_eval"
   ]
  },
  {
   "cell_type": "code",
   "execution_count": null,
   "id": "bbd38c04-9bec-4487-8670-b9241dea7a99",
   "metadata": {},
   "outputs": [],
   "source": [
    "top_100_query_path = '../../Embeddings/DEEP_Image_Retrieval/caltech101_700-top-100-results-and-scores.csv'"
   ]
  },
  {
   "cell_type": "code",
   "execution_count": null,
   "id": "f1738dff-3b18-4a63-9863-75f7324ee65c",
   "metadata": {},
   "outputs": [],
   "source": [
    "top_100_results = pd.read_csv(top_100_query_path)"
   ]
  },
  {
   "cell_type": "code",
   "execution_count": null,
   "id": "b98a571e-f44c-4732-8369-7e8aed516e46",
   "metadata": {},
   "outputs": [],
   "source": [
    "title = np.array(top_100_results[['query_path']].values.tolist())"
   ]
  },
  {
   "cell_type": "code",
   "execution_count": null,
   "id": "4fdf9450-e885-4c03-8554-46f86828a521",
   "metadata": {},
   "outputs": [],
   "source": [
    "db_embeddings = []\n",
    "\n",
    "def parse_array(arr):\n",
    "    new_arr = []\n",
    "    for i in range(0,100):\n",
    "        temp_arr = arr[i*2048:(i+1)*2048]\n",
    "        new_arr.append(temp_arr)\n",
    "    \n",
    "    new_arr = np.array(new_arr)\n",
    "    return new_arr\n",
    "    \n",
    "\n",
    "def text_parser(text):\n",
    "    new_text = \"\"\n",
    "    for letter in text:\n",
    "        if(not(letter in(['[',']',',']))):\n",
    "            new_text+=letter\n",
    "    new_text= np.array(new_text.split(' '))\n",
    "    new_text= new_text.astype(float)\n",
    "    return new_text\n",
    "    \n",
    "for item_id in range(len(title)):\n",
    "    print(item_id)\n",
    "    current_emb = top_100_results.iloc[item_id]['result_emb']\n",
    "    image_embedding = text_parser(current_emb)#literal_eval(top_100_results.iloc[item_id]['result_emb'])\n",
    "    image_embedding = parse_array(image_embedding)\n",
    "    db_embeddings.append(image_embedding)\n",
    "    if(image_embedding.shape[1] != 2048):\n",
    "        print('error in parsing')\n",
    "        break\n",
    "    \n",
    "db_embeddings = np.array(db_embeddings) "
   ]
  },
  {
   "cell_type": "code",
   "execution_count": null,
   "id": "26b0d1f4-9d7f-4e9c-8bdf-870dcf51db34",
   "metadata": {},
   "outputs": [],
   "source": [
    "from scipy.spatial import distance\n",
    "\n",
    "\n",
    "difficulty_score = []\n",
    "\n",
    "for i in range(len(title)):\n",
    "    print(i)\n",
    "    data = db_embeddings[i,:10,:]\n",
    "    model = KMeans(1)\n",
    "    model.fit(data)\n",
    "    \n",
    "    cluster_center = model.cluster_centers_[0]\n",
    "    \n",
    "    total_distance = 0\n",
    "    # Sum of distances between embedding and centroid\n",
    "    for embedding in data:\n",
    "        distance_to_center = distance.euclidean(embedding, cluster_center)\n",
    "        total_distance += distance_to_center\n",
    "        \n",
    "    total_distance /= len(db_embeddings[i])\n",
    "        \n",
    "    \n",
    "    difficulty_score.append(total_distance)"
   ]
  },
  {
   "cell_type": "code",
   "execution_count": null,
   "id": "96df4c12-9691-4269-9ce0-6b5d4d31df88",
   "metadata": {},
   "outputs": [],
   "source": [
    "title = title.flatten()"
   ]
  },
  {
   "cell_type": "code",
   "execution_count": null,
   "id": "ca701f29-91c7-46c0-9e45-9d1cbc3f9f65",
   "metadata": {},
   "outputs": [],
   "source": [
    "df = pd.DataFrame({'path': title, 'score': difficulty_score})"
   ]
  },
  {
   "cell_type": "code",
   "execution_count": null,
   "id": "2f0f8f5d-ac0c-444d-b8fa-f8eb54db7cf4",
   "metadata": {},
   "outputs": [],
   "source": [
    "df.to_csv('../../Results/postretrieval-deepretrieval-caltech101_700-10.csv')"
   ]
  },
  {
   "cell_type": "code",
   "execution_count": null,
   "id": "3f222d50-ec60-41f8-adea-da30f081de7f",
   "metadata": {},
   "outputs": [],
   "source": [
    "from scipy.spatial import distance\n",
    "\n",
    "\n",
    "difficulty_score = []\n",
    "\n",
    "for i in range(len(title)):\n",
    "    print(i)\n",
    "    data = db_embeddings[i,:10,:]\n",
    "    model = KMeans(1)\n",
    "    model.fit(data)\n",
    "    \n",
    "    cluster_center = model.cluster_centers_[0]\n",
    "    \n",
    "    total_distance = 0\n",
    "    # Sum of distances between embedding and centroid\n",
    "    for embedding in data:\n",
    "        distance_to_center = distance.euclidean(embedding, cluster_center)\n",
    "        total_distance += distance_to_center\n",
    "        \n",
    "    total_distance /= len(db_embeddings[i])\n",
    "        \n",
    "    \n",
    "    difficulty_score.append(total_distance)"
   ]
  },
  {
   "cell_type": "code",
   "execution_count": null,
   "id": "7be90141-f32c-4254-8535-1abde9aefd0b",
   "metadata": {},
   "outputs": [],
   "source": [
    "df = pd.DataFrame({'path': title, 'score': difficulty_score})"
   ]
  },
  {
   "cell_type": "code",
   "execution_count": null,
   "id": "fc06952d-7178-475d-9c00-f0600c3d96e5",
   "metadata": {},
   "outputs": [],
   "source": [
    "df.to_csv('../../Results/postretrieval-deepretrieval-caltech101_700-10.csv')"
   ]
  }
 ],
 "metadata": {
  "kernelspec": {
   "display_name": "Python 3",
   "language": "python",
   "name": "python3"
  },
  "language_info": {
   "codemirror_mode": {
    "name": "ipython",
    "version": 3
   },
   "file_extension": ".py",
   "mimetype": "text/x-python",
   "name": "python",
   "nbconvert_exporter": "python",
   "pygments_lexer": "ipython3",
   "version": "3.10.5"
  },
  "vscode": {
   "interpreter": {
    "hash": "5efb5c8d63a54c73d8d27071022adad53c6f3df0ecaf8b2d6fe4415ee6c014ca"
   }
  }
 },
 "nbformat": 4,
 "nbformat_minor": 5
}
