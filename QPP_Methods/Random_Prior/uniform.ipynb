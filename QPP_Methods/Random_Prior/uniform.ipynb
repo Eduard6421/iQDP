{
 "cells": [
  {
   "cell_type": "code",
   "execution_count": 1,
   "id": "e16f9c05-2ae6-481a-aee2-6ca723a989b7",
   "metadata": {},
   "outputs": [],
   "source": [
    "# -------------------------------------------------------- Imports --------------------------------------------------------------\n",
    "import os\n",
    "import pandas as pd\n",
    "import torch\n",
    "import skimage.io as sk\n",
    "import scipy.stats as stats\n",
    "import numpy as np\n",
    "import torch.nn as nn\n",
    "import warnings\n",
    "import matplotlib.pyplot as plt\n",
    "import pickle\n",
    "\n",
    "from torchvision.models.detection import fasterrcnn_resnet50_fpn, FasterRCNN_ResNet50_FPN_Weights\n",
    "from torchvision.transforms import Resize,Compose, ToTensor\n",
    "from torchvision.io import read_image\n",
    "from torch.utils.data import Dataset,DataLoader,random_split\n",
    "from sklearn.preprocessing import normalize\n",
    "from sklearn.svm import LinearSVR"
   ]
  },
  {
   "cell_type": "code",
   "execution_count": 2,
   "id": "56586f8e-11a5-4769-b2c9-da88074dc19f",
   "metadata": {},
   "outputs": [],
   "source": [
    "# SfM + GeM model\n",
    "GND_PATH = \"/../../cnnimageretrieval-pytorch/data/test/pascalvoc/gnd_pascalvoc_700_no_bbx.pkl\"\n",
    "DATASET_FOLDERPATH = '/../../cnnimageretrieval-pytorch/data/test/pascalvoc/jpg/'"
   ]
  },
  {
   "cell_type": "code",
   "execution_count": 3,
   "id": "0e7d375c-75c9-4dea-8537-e0e6fc6b5efd",
   "metadata": {},
   "outputs": [
    {
     "ename": "FileNotFoundError",
     "evalue": "[Errno 2] No such file or directory: '/notebooks/cnnimageretrieval-pytorch/data/test/caltech101/caltech101_700.pkl'",
     "output_type": "error",
     "traceback": [
      "\u001b[0;31m---------------------------------------------------------------------------\u001b[0m",
      "\u001b[0;31mFileNotFoundError\u001b[0m                         Traceback (most recent call last)",
      "Input \u001b[0;32mIn [3]\u001b[0m, in \u001b[0;36m<cell line: 1>\u001b[0;34m()\u001b[0m\n\u001b[0;32m----> 1\u001b[0m \u001b[38;5;28;01mwith\u001b[39;00m \u001b[38;5;28;43mopen\u001b[39;49m\u001b[43m(\u001b[49m\u001b[43mGND_PATH\u001b[49m\u001b[43m,\u001b[49m\u001b[43m \u001b[49m\u001b[38;5;124;43m'\u001b[39;49m\u001b[38;5;124;43mrb\u001b[39;49m\u001b[38;5;124;43m'\u001b[39;49m\u001b[43m)\u001b[49m \u001b[38;5;28;01mas\u001b[39;00m handle:\n\u001b[1;32m      2\u001b[0m     gnd_file \u001b[38;5;241m=\u001b[39m pickle\u001b[38;5;241m.\u001b[39mload(handle)\n\u001b[1;32m      4\u001b[0m query_images \u001b[38;5;241m=\u001b[39m gnd_file[\u001b[38;5;124m'\u001b[39m\u001b[38;5;124mqimlist\u001b[39m\u001b[38;5;124m'\u001b[39m]\n",
      "\u001b[0;31mFileNotFoundError\u001b[0m: [Errno 2] No such file or directory: '/notebooks/cnnimageretrieval-pytorch/data/test/caltech101/caltech101_700.pkl'"
     ]
    }
   ],
   "source": [
    "with open(GND_PATH, 'rb') as handle:\n",
    "    gnd_file = pickle.load(handle)\n",
    "    \n",
    "query_images = gnd_file['qimlist']\n",
    "details = gnd_file['gnd']\n",
    "\n",
    "df = pd.DataFrame(columns=['path','score'])\n",
    "\n",
    "for i in range(len(query_images)):\n",
    "    image_path = os.path.join(DATASET_FOLDERPATH,query_images[i]) + '.jpg'\n",
    "    image = read_image(image_path)\n",
    "    \n",
    "    new_df = pd.DataFrame([{\n",
    "        'path' : image_path,\n",
    "        'score': np.random.uniform(0,1,1)[0]\n",
    "    }])\n",
    "    df = pd.concat([df, new_df], axis=0, ignore_index=True)\n",
    "        #query_image = qimlit\n",
    "df.to_csv('/../../Results/random-uniform-results-pascalvoc_700_no_bbx.csv', index=False)"
   ]
  },
  {
   "cell_type": "code",
   "execution_count": null,
   "id": "1c156aab-f818-47aa-a4b7-524cb85d36bd",
   "metadata": {},
   "outputs": [],
   "source": []
  }
 ],
 "metadata": {
  "kernelspec": {
   "display_name": "Python 3",
   "language": "python",
   "name": "python3"
  },
  "language_info": {
   "codemirror_mode": {
    "name": "ipython",
    "version": 3
   },
   "file_extension": ".py",
   "mimetype": "text/x-python",
   "name": "python",
   "nbconvert_exporter": "python",
   "pygments_lexer": "ipython3",
   "version": "3.10.5"
  },
  "vscode": {
   "interpreter": {
    "hash": "5efb5c8d63a54c73d8d27071022adad53c6f3df0ecaf8b2d6fe4415ee6c014ca"
   }
  }
 },
 "nbformat": 4,
 "nbformat_minor": 5
}
