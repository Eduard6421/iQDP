{
 "cells": [
  {
   "cell_type": "code",
   "execution_count": 1,
   "id": "e16f9c05-2ae6-481a-aee2-6ca723a989b7",
   "metadata": {},
   "outputs": [],
   "source": [
    "# -------------------------------------------------------- Imports --------------------------------------------------------------\n",
    "import os\n",
    "import pandas as pd\n",
    "import torch\n",
    "import skimage.io as sk\n",
    "import scipy.stats as stats\n",
    "import numpy as np\n",
    "import torch.nn as nn\n",
    "import warnings\n",
    "import matplotlib.pyplot as plt\n",
    "import pickle\n",
    "\n",
    "from torchvision.models.detection import fasterrcnn_resnet50_fpn, FasterRCNN_ResNet50_FPN_Weights\n",
    "from torchvision.transforms import Resize,Compose, ToTensor\n",
    "from torchvision.io import read_image\n",
    "from torch.utils.data import Dataset,DataLoader,random_split\n",
    "from sklearn.preprocessing import normalize\n",
    "from sklearn.svm import LinearSVR"
   ]
  },
  {
   "cell_type": "code",
   "execution_count": 2,
   "id": "56586f8e-11a5-4769-b2c9-da88074dc19f",
   "metadata": {},
   "outputs": [],
   "source": [
    "# SfM + GeM model\n",
    "GND_PATH = \"/../../cnnimageretrieval-pytorch/data/test/pascalvoc/gnd_pascalvoc_700_no_bbx.pkl\"\n",
    "DATASET_FOLDERPATH = '/../../cnnimageretrieval-pytorch/data/test/pascalvoc/jpg/'"
   ]
  },
  {
   "cell_type": "code",
   "execution_count": 3,
   "id": "0e7d375c-75c9-4dea-8537-e0e6fc6b5efd",
   "metadata": {},
   "outputs": [],
   "source": [
    "with open(GND_PATH, 'rb') as handle:\n",
    "    gnd_file = pickle.load(handle)\n",
    "    \n",
    "query_images = gnd_file['qimlist']\n",
    "details = gnd_file['gnd']\n",
    "\n",
    "df = pd.DataFrame(columns=['path','score'])\n",
    "\n",
    "for i in range(len(query_images)):\n",
    "    image_path = os.path.join(DATASET_FOLDERPATH,query_images[i]) + '.jpg'\n",
    "    image = read_image(image_path)\n",
    "    \n",
    "    new_df = pd.DataFrame([{\n",
    "        'path' : image_path,\n",
    "        'score': np.random.normal(0,1,1)[0]\n",
    "    }])\n",
    "    df = pd.concat([df, new_df], axis=0, ignore_index=True)\n",
    "        #query_image = qimlit\n",
    "        \n",
    "df.to_csv('/../../Results/random-normal-results-pascalvoc_700_no_bbx.csv', index=False)"
   ]
  },
  {
   "cell_type": "code",
   "execution_count": null,
   "id": "6b821cb6-f1f9-428c-9fa0-6af3931db048",
   "metadata": {},
   "outputs": [],
   "source": []
  },
  {
   "cell_type": "code",
   "execution_count": null,
   "id": "7981406e-4f54-49ec-b45a-5716d38631e9",
   "metadata": {},
   "outputs": [],
   "source": []
  }
 ],
 "metadata": {
  "kernelspec": {
   "display_name": "Python 3 (ipykernel)",
   "language": "python",
   "name": "python3"
  },
  "language_info": {
   "codemirror_mode": {
    "name": "ipython",
    "version": 3
   },
   "file_extension": ".py",
   "mimetype": "text/x-python",
   "name": "python",
   "nbconvert_exporter": "python",
   "pygments_lexer": "ipython3",
   "version": "3.10.5"
  }
 },
 "nbformat": 4,
 "nbformat_minor": 5
}
