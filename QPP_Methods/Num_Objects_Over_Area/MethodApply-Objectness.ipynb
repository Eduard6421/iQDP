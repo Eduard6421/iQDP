{
 "cells": [
  {
   "cell_type": "code",
   "execution_count": null,
   "id": "caf9ecc4-f82c-4615-a535-09bf44081aea",
   "metadata": {
    "tags": []
   },
   "outputs": [],
   "source": [
    "!pip install torchinfo"
   ]
  },
  {
   "cell_type": "code",
   "execution_count": 1,
   "id": "1dddf516-347f-46c7-b175-d6ea7251b7b8",
   "metadata": {
    "tags": []
   },
   "outputs": [],
   "source": [
    "# -------------------------------------------------------- Imports --------------------------------------------------------------\n",
    "import os\n",
    "import pandas as pd\n",
    "import torch\n",
    "import skimage.io as sk\n",
    "import scipy.stats as stats\n",
    "import numpy as np\n",
    "import torch.nn as nn\n",
    "import warnings\n",
    "import matplotlib.pyplot as plt\n",
    "import pickle\n",
    "\n",
    "from torchinfo import summary\n",
    "from torchvision.models.detection import fasterrcnn_resnet50_fpn, FasterRCNN_ResNet50_FPN_Weights\n",
    "from torchvision.transforms import Resize,Compose, ToTensor\n",
    "from torchvision.io import read_image\n",
    "from torch.utils.data import Dataset,DataLoader,random_split\n",
    "from sklearn.preprocessing import normalize\n",
    "from sklearn.svm import LinearSVR\n",
    "from PIL import Image\n",
    "import matplotlib.pyplot as plt"
   ]
  },
  {
   "cell_type": "markdown",
   "id": "826bd44b-259e-4a81-bb8f-237e1eec7967",
   "metadata": {},
   "source": [
    "# Objectness"
   ]
  },
  {
   "cell_type": "code",
   "execution_count": 2,
   "id": "3845a83a-8a4c-479e-8d83-dd347284eecb",
   "metadata": {
    "tags": []
   },
   "outputs": [
    {
     "name": "stdout",
     "output_type": "stream",
     "text": [
      "Currently running on cuda\n"
     ]
    }
   ],
   "source": [
    "%run /notebooks/Referenced-Models/objectness.ipynb"
   ]
  },
  {
   "cell_type": "code",
   "execution_count": null,
   "id": "2dbb5cdc-3774-4eea-b9f4-e78be54f68c9",
   "metadata": {},
   "outputs": [],
   "source": []
  },
  {
   "cell_type": "code",
   "execution_count": 3,
   "id": "cf6ec9eb-e32b-45cc-be44-b1c2d15b5399",
   "metadata": {
    "tags": []
   },
   "outputs": [],
   "source": [
    "GND_PATH = \"/notebooks/cnnimageretrieval-pytorch/data/test/caltech101/gnd_caltech101_700.pkl\"\n",
    "DATASET_FOLDERPATH = '/notebooks/cnnimageretrieval-pytorch/data/test/caltech101/jpg/'"
   ]
  },
  {
   "cell_type": "code",
   "execution_count": 4,
   "id": "468da3f6-051c-49de-85b4-51db95da4a2f",
   "metadata": {
    "tags": []
   },
   "outputs": [],
   "source": [
    "with open(GND_PATH, 'rb') as handle:\n",
    "    gnd_file = pickle.load(handle)\n",
    "    \n",
    "query_images = gnd_file['qimlist']\n",
    "details = gnd_file['gnd']"
   ]
  },
  {
   "cell_type": "code",
   "execution_count": 5,
   "id": "762be422-dfb3-4418-9e42-95ad0d6afcc7",
   "metadata": {
    "tags": []
   },
   "outputs": [
    {
     "name": "stderr",
     "output_type": "stream",
     "text": [
      "Downloading: \"https://download.pytorch.org/models/fasterrcnn_resnet50_fpn_coco-258fb6c6.pth\" to /root/.cache/torch/hub/checkpoints/fasterrcnn_resnet50_fpn_coco-258fb6c6.pth\n"
     ]
    }
   ],
   "source": [
    "# ------------------------------------------------------------ Model Load  --------------------------------------------------------------\n",
    "model = ObjectnessDifficultyRegressor()"
   ]
  },
  {
   "cell_type": "code",
   "execution_count": 6,
   "id": "c398a4ca-1172-4ceb-bd3b-d739fccad9c0",
   "metadata": {},
   "outputs": [
    {
     "data": {
      "text/plain": [
       "700"
      ]
     },
     "execution_count": 6,
     "metadata": {},
     "output_type": "execute_result"
    }
   ],
   "source": [
    "len(query_images)"
   ]
  },
  {
   "cell_type": "code",
   "execution_count": null,
   "id": "8b895645-3c14-4e1f-85ed-cd30c1352436",
   "metadata": {
    "tags": []
   },
   "outputs": [],
   "source": [
    "df = pd.DataFrame(columns=['path','score'])\n",
    "\n",
    "to_tensor_transform = ToTensor()\n",
    "\n",
    "for i in range(len(query_images)):\n",
    "    print(i)\n",
    "    image_path = os.path.join(DATASET_FOLDERPATH,query_images[i]) + '.jpg'\n",
    "    det = details[i]\n",
    "    image = Image.open(image_path)\n",
    "    image = ToTensor()(image)\n",
    "    \n",
    "    if(gnd_file['gnd'][i]['bbx'] is None or None in gnd_file['gnd'][i]['bbx']):\n",
    "        crop = image\n",
    "    else:\n",
    "        bbox = gnd_file['gnd'][i]['bbx']\n",
    "        [xmin,ymin,xmax,ymax] = bbox\n",
    "        xmin = int(xmin)\n",
    "        ymin = int(ymin)\n",
    "        xmax = int(xmax)\n",
    "        ymax = int(ymax)\n",
    "        crop = image[:,ymin:ymax,xmin:xmax]\n",
    "        \n",
    "    output = model(crop)\n",
    "    \n",
    "    new_df = pd.DataFrame([{\n",
    "        'path' : image_path,\n",
    "        'score': output\n",
    "    }])\n",
    "    \n",
    "    df = pd.concat([df, new_df], axis=0, ignore_index=True)\n",
    "        #query_image = qimlit"
   ]
  },
  {
   "cell_type": "code",
   "execution_count": 8,
   "id": "fb4c1718-fca2-42c0-8de1-18a57dd9c38a",
   "metadata": {
    "tags": []
   },
   "outputs": [],
   "source": [
    "df.to_csv('/notebooks/Results/objectness-results-caltech101_700.csv', index=False)"
   ]
  },
  {
   "cell_type": "code",
   "execution_count": null,
   "id": "6de386f5-be63-4029-98c7-7267ef27f971",
   "metadata": {},
   "outputs": [],
   "source": []
  },
  {
   "cell_type": "code",
   "execution_count": null,
   "id": "9443840d-3ca6-473e-b56f-3bb523245f4c",
   "metadata": {},
   "outputs": [],
   "source": []
  },
  {
   "cell_type": "code",
   "execution_count": null,
   "id": "6cda59a3-1cfe-4ebe-ba81-10199dd9ff3d",
   "metadata": {},
   "outputs": [],
   "source": []
  }
 ],
 "metadata": {
  "kernelspec": {
   "display_name": "Python 3 (ipykernel)",
   "language": "python",
   "name": "python3"
  },
  "language_info": {
   "codemirror_mode": {
    "name": "ipython",
    "version": 3
   },
   "file_extension": ".py",
   "mimetype": "text/x-python",
   "name": "python",
   "nbconvert_exporter": "python",
   "pygments_lexer": "ipython3",
   "version": "3.10.5"
  }
 },
 "nbformat": 4,
 "nbformat_minor": 5
}
