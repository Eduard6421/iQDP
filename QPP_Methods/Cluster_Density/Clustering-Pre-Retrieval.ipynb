{
 "cells": [
  {
   "cell_type": "code",
   "execution_count": 1,
   "id": "4c62c256-48c9-4f66-8a53-96db76ef3dce",
   "metadata": {
    "tags": []
   },
   "outputs": [],
   "source": [
    "import pandas as pd\n",
    "import numpy as np\n",
    "from sklearn.cluster import KMeans\n",
    "from sklearn.datasets import make_blobs\n",
    "from sklearn.metrics.pairwise import euclidean_distances\n",
    "from sklearn.metrics import silhouette_samples\n",
    "from ast import literal_eval\n",
    "from scipy.spatial import distance\n",
    "from scipy import stats"
   ]
  },
  {
   "cell_type": "code",
   "execution_count": 2,
   "id": "6e61958a-e7ff-4cef-ae69-4500a9a40753",
   "metadata": {},
   "outputs": [],
   "source": [
    "# ====================================================== Oxford Dataset =============================================================="
   ]
  },
  {
   "cell_type": "code",
   "execution_count": 3,
   "id": "c4bbbfd8-41cc-4c85-8d48-afb60407cff1",
   "metadata": {
    "tags": []
   },
   "outputs": [],
   "source": [
    "cnn_dataset_path = '../../Embeddings/CNN_Image_Retrieval/caltech101_700-dataset-features.csv'\n",
    "cnn_query_path = '../../Embeddings/CNN_Image_Retrieval/caltech101_700-query-features.csv'"
   ]
  },
  {
   "cell_type": "code",
   "execution_count": 4,
   "id": "b7de25bb-b76d-4bef-9ecc-6fe55ba1b53b",
   "metadata": {
    "tags": []
   },
   "outputs": [],
   "source": [
    "df_db = pd.read_csv(cnn_dataset_path)\n",
    "df_query = pd.read_csv(cnn_query_path)"
   ]
  },
  {
   "cell_type": "code",
   "execution_count": 5,
   "id": "7ab9a162-359e-494b-9d99-b73d88648255",
   "metadata": {
    "tags": []
   },
   "outputs": [
    {
     "data": {
      "text/plain": [
       "(8445, 2048)"
      ]
     },
     "execution_count": 5,
     "metadata": {},
     "output_type": "execute_result"
    }
   ],
   "source": [
    "db_embeddings = []\n",
    "    \n",
    "for item_id in range(len(df_db)):\n",
    "    image_embedding = literal_eval(df_db.iloc[item_id]['embedding'])\n",
    "    db_embeddings.append(image_embedding)\n",
    "    \n",
    "db_embeddings = np.array(db_embeddings) \n",
    "\n",
    "\n",
    "# The dataset shape\n",
    "db_embeddings.shape"
   ]
  },
  {
   "cell_type": "code",
   "execution_count": 6,
   "id": "bdddbd7c-cd28-4ee2-a7de-8a215d22a471",
   "metadata": {
    "tags": []
   },
   "outputs": [
    {
     "data": {
      "text/plain": [
       "(700, 2048)"
      ]
     },
     "execution_count": 6,
     "metadata": {},
     "output_type": "execute_result"
    }
   ],
   "source": [
    "df_queries = []\n",
    "    \n",
    "for item_id in range(len(df_query)):\n",
    "    image_embedding = literal_eval(df_query.iloc[item_id]['embedding'])\n",
    "    df_queries.append(image_embedding)\n",
    "    \n",
    "df_queries = np.array(df_queries) \n",
    "\n",
    "\n",
    "#The query images shape\n",
    "df_queries.shape"
   ]
  },
  {
   "cell_type": "code",
   "execution_count": 7,
   "id": "0281d18c-2d13-4211-9979-852c32f32858",
   "metadata": {
    "tags": []
   },
   "outputs": [],
   "source": [
    "title = np.array(df_query[['image_name']].values.tolist())\n",
    "title = title.flatten()"
   ]
  },
  {
   "cell_type": "code",
   "execution_count": 8,
   "id": "a8557bb9-75e2-4877-80fa-5d1e965baf72",
   "metadata": {},
   "outputs": [],
   "source": [
    "def train_clustering():\n",
    "    num_clusters = 150\n",
    "    model = KMeans(num_clusters)\n",
    "    model.fit(db_embeddings)\n",
    "    cluster_score = np.zeros(num_clusters)\n",
    "\n",
    "    db_preds = model.predict(db_embeddings)\n",
    "    q_preds  = model.predict(df_queries)\n",
    "\n",
    "    clusters_lengths = []\n",
    "    clusters_mean_distance = []\n",
    "\n",
    "    for i in range(num_clusters):\n",
    "        cluster_center = model.cluster_centers_[i]\n",
    "        cluster_elements = np.array([ db_embeddings[idx] for idx in range(len(db_embeddings)) if db_preds[idx] == i])\n",
    "        num_elements = len(cluster_elements)\n",
    "\n",
    "        mean_distance = 0 \n",
    "\n",
    "        for embedding in cluster_elements:\n",
    "            distance_to_center = distance.euclidean(embedding, cluster_center)\n",
    "            mean_distance += distance_to_center\n",
    "\n",
    "        # Presume that for the query we will have another item. So we divide to num_elements + 1 as we want to include the query image into the mean distance\n",
    "        mean_distance /= (num_elements)\n",
    "\n",
    "        clusters_mean_distance.append(mean_distance)\n",
    "        # Trick. Add one more to the number of elements. presume you have found another!\n",
    "        clusters_lengths.append(num_elements)\n",
    "    difficulty_score = []\n",
    "\n",
    "    for i in range(len(q_preds)):\n",
    "        query_emb = df_queries[i]\n",
    "        cluster_prediction = q_preds[i]\n",
    "\n",
    "        num_elements  = clusters_lengths[cluster_prediction]\n",
    "        mean_distance = clusters_mean_distance[cluster_prediction] + distance.euclidean(query_emb, model.cluster_centers_[cluster_prediction])\n",
    "        image_score = num_elements / mean_distance\n",
    "\n",
    "        difficulty_score.append(image_score)\n",
    "    df = pd.DataFrame({'path': title, 'score': difficulty_score})\n",
    "    df.to_csv('../../Results/preretrieval-cnnimageretrieval-caltech101_700.csv')\n",
    "    cnnretrieval = pd.read_csv('../../Results/cnnimageretrieval-caltech101_700-p@100.csv')\n",
    "    clustering_cnn  = pd.read_csv('../../Results/preretrieval-cnnimageretrieval-caltech101_700.csv')\n",
    "    joined_df_cnn = cnnretrieval.merge(clustering_cnn, on='path')\n",
    "    results_clustering   = joined_df_cnn[['score_x','score_y']]\n",
    "    score_x = results_clustering['score_x'].tolist()\n",
    "    score_y = results_clustering['score_y'].tolist()\n",
    "    pearson, pearson_p_value = stats.pearsonr(score_x,score_y)\n",
    "    tau, tau_p_value = stats.kendalltau(score_x, score_y)\n",
    "\n",
    "    return pearson,pearson_p_value,tau,tau_p_value"
   ]
  },
  {
   "cell_type": "code",
   "execution_count": 9,
   "id": "669f0f8a-78ad-4003-a77b-ec07b1c95b79",
   "metadata": {
    "tags": []
   },
   "outputs": [
    {
     "name": "stdout",
     "output_type": "stream",
     "text": [
      "0\n",
      "1\n",
      "2\n",
      "3\n",
      "4\n"
     ]
    }
   ],
   "source": [
    "pearsons = []\n",
    "pearson_p_values = []\n",
    "taus = []\n",
    "tau_p_values = []\n",
    "\n",
    "for i in range(5):\n",
    "    print(i)\n",
    "    pearson,pearson_p_value,tau,tau_p_value = train_clustering()\n",
    "    pearsons.append(pearson)\n",
    "    pearson_p_values.append(pearson_p_value)\n",
    "    taus.append(tau)\n",
    "    tau_p_values.append(tau_p_value)"
   ]
  },
  {
   "cell_type": "code",
   "execution_count": 10,
   "id": "59470f99-f5a7-42d5-a14f-1473e0f979ee",
   "metadata": {},
   "outputs": [
    {
     "name": "stdout",
     "output_type": "stream",
     "text": [
      "pearson: 0.41873160646447677 / p-value: 2.535003472693713e-22\n",
      "tau: 0.24056523602045554  / p-value: 1.2900013512436287e-09\n"
     ]
    }
   ],
   "source": [
    "print(\"pearson: {} / p-value: {}\".format(np.mean(pearsons),np.mean(pearson_p_values)))\n",
    "print(\"tau: {}  / p-value: {}\".format(np.mean(taus), np.mean(tau_p_values)))"
   ]
  },
  {
   "cell_type": "code",
   "execution_count": null,
   "id": "4dbc8479-c1ec-4bc2-b091-0668b224334e",
   "metadata": {},
   "outputs": [],
   "source": []
  },
  {
   "cell_type": "code",
   "execution_count": null,
   "id": "d63067eb-8922-4883-a0db-35bf36aa085e",
   "metadata": {},
   "outputs": [],
   "source": []
  },
  {
   "cell_type": "code",
   "execution_count": null,
   "id": "73687e1c-b490-4633-9869-e1cdf7a6ba77",
   "metadata": {},
   "outputs": [],
   "source": []
  }
 ],
 "metadata": {
  "kernelspec": {
   "display_name": "Python 3",
   "language": "python",
   "name": "python3"
  },
  "language_info": {
   "codemirror_mode": {
    "name": "ipython",
    "version": 3
   },
   "file_extension": ".py",
   "mimetype": "text/x-python",
   "name": "python",
   "nbconvert_exporter": "python",
   "pygments_lexer": "ipython3",
   "version": "3.10.5"
  },
  "vscode": {
   "interpreter": {
    "hash": "5efb5c8d63a54c73d8d27071022adad53c6f3df0ecaf8b2d6fe4415ee6c014ca"
   }
  }
 },
 "nbformat": 4,
 "nbformat_minor": 5
}
