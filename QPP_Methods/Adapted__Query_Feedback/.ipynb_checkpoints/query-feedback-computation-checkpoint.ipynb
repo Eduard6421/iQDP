{
 "cells": [
  {
   "cell_type": "code",
   "execution_count": 3,
   "id": "d4e7b70a-ddc0-4087-8061-21d4310a1fad",
   "metadata": {},
   "outputs": [],
   "source": [
    "import numpy as np\n",
    "import pandas as pd"
   ]
  },
  {
   "cell_type": "code",
   "execution_count": 4,
   "id": "3cd0b780-a270-4d8d-a672-bdf03df857ae",
   "metadata": {},
   "outputs": [],
   "source": [
    "result_embeddings = pd.read_csv('/notebooks/Embeddings/DEEP_Image_Retrieval/caltech101_700-top-100-results-and-scores.csv')\n",
    "feedback_embeddings = pd.read_csv('/notebooks/Embeddings/DEEP_Image_Retrieval/caltech101_700-drift-top-100-results-and-scores.csv')\n"
   ]
  },
  {
   "cell_type": "code",
   "execution_count": 5,
   "id": "6a490bfb-2e8a-43e8-a68f-c93cdece027a",
   "metadata": {},
   "outputs": [
    {
     "data": {
      "text/plain": [
       "(700, 5)"
      ]
     },
     "execution_count": 5,
     "metadata": {},
     "output_type": "execute_result"
    }
   ],
   "source": [
    "result_embeddings.shape"
   ]
  },
  {
   "cell_type": "code",
   "execution_count": 6,
   "id": "4cebf47c-f9ff-437e-93d5-601c5a87ed4c",
   "metadata": {},
   "outputs": [],
   "source": [
    "def text_parse_paths(text):\n",
    "    new_text = \"\"\n",
    "    for letter in text:\n",
    "        if(not(letter in(['[',']',',']))):\n",
    "            new_text+=letter\n",
    "    new_text= np.array(new_text.split(' '))\n",
    "    return new_text"
   ]
  },
  {
   "cell_type": "code",
   "execution_count": 7,
   "id": "70aa731c-ae6f-4ae2-9b25-471cd5817e67",
   "metadata": {},
   "outputs": [],
   "source": [
    "def parse_array(arr):\n",
    "    new_arr = []\n",
    "    for i in range(0,100):\n",
    "        temp_arr = arr[i*2048:(i+1)*2048]\n",
    "        new_arr.append(temp_arr)\n",
    "    \n",
    "    new_arr = np.array(new_arr)\n",
    "    return new_arr"
   ]
  },
  {
   "cell_type": "code",
   "execution_count": 8,
   "id": "8d16ec2e-ea2f-4a41-a4ff-884fff7327ed",
   "metadata": {},
   "outputs": [],
   "source": [
    "def intersection_over_union(items):\n",
    "    intersection = np.array(items[0])\n",
    "    union = np.array(items[0])\n",
    "    \n",
    "    for i in range(1, len(items)):\n",
    "        intersection = np.intersect1d(intersection , items[i])\n",
    "        union = np.union1d(union, items[i])\n",
    "        \n",
    "    return len(intersection) / len(union)\n"
   ]
  },
  {
   "cell_type": "code",
   "execution_count": 9,
   "id": "c8d74507-628b-49a3-a55d-4ac6c643da48",
   "metadata": {},
   "outputs": [],
   "source": [
    "scores = []\n",
    "for query_idx in range(result_embeddings.shape[0]):\n",
    "    query_path = result_embeddings.iloc[query_idx]['query_path']\n",
    "    orig_cbir_results     = text_parse_paths(result_embeddings.iloc[query_idx]['results_path'])\n",
    "    adaptive_cbir_results = text_parse_paths(feedback_embeddings.iloc[query_idx]['results_path'])\n",
    "    iou_score = intersection_over_union([orig_cbir_results,adaptive_cbir_results])\n",
    "    scores.append(iou_score)"
   ]
  },
  {
   "cell_type": "code",
   "execution_count": 10,
   "id": "7da5b633-df60-4ea1-9e80-9fb681ec23f9",
   "metadata": {},
   "outputs": [],
   "source": [
    "result_df = pd.DataFrame({'path': np.array(result_embeddings['query_path']), 'score': scores})"
   ]
  },
  {
   "cell_type": "code",
   "execution_count": 11,
   "id": "c4d5b792-6c1f-4d12-8fea-2ce605151409",
   "metadata": {},
   "outputs": [],
   "source": [
    "result_df.to_csv('/notebooks/Results/adaptivequery-deepretrieval-caltech101_700-100.csv',index=False)"
   ]
  },
  {
   "cell_type": "code",
   "execution_count": null,
   "id": "791365a6-ceba-4bd5-a9b0-f0a9147d86d1",
   "metadata": {},
   "outputs": [],
   "source": []
  },
  {
   "cell_type": "code",
   "execution_count": null,
   "id": "c7c8ef52-e7e4-4c98-bcdf-7ff6ffe49ed6",
   "metadata": {},
   "outputs": [],
   "source": []
  },
  {
   "cell_type": "code",
   "execution_count": null,
   "id": "8b0247b9-cd4b-4bab-92ea-212b4acd5554",
   "metadata": {},
   "outputs": [],
   "source": []
  },
  {
   "cell_type": "code",
   "execution_count": null,
   "id": "6f421c4b-bfd3-4b33-830b-bbf88b002f69",
   "metadata": {},
   "outputs": [],
   "source": []
  },
  {
   "cell_type": "code",
   "execution_count": null,
   "id": "ac6aa4b2-0b09-412c-b03e-391cbbd24ed7",
   "metadata": {},
   "outputs": [],
   "source": []
  },
  {
   "cell_type": "code",
   "execution_count": null,
   "id": "8f07be9f-ae4c-45d8-a28b-208db0239590",
   "metadata": {},
   "outputs": [],
   "source": []
  }
 ],
 "metadata": {
  "kernelspec": {
   "display_name": "Python 3 (ipykernel)",
   "language": "python",
   "name": "python3"
  },
  "language_info": {
   "codemirror_mode": {
    "name": "ipython",
    "version": 3
   },
   "file_extension": ".py",
   "mimetype": "text/x-python",
   "name": "python",
   "nbconvert_exporter": "python",
   "pygments_lexer": "ipython3",
   "version": "3.10.5"
  }
 },
 "nbformat": 4,
 "nbformat_minor": 5
}
