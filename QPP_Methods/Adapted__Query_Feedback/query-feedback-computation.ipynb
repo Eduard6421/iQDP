{
 "cells": [
  {
   "cell_type": "code",
   "execution_count": 1,
   "id": "d4e7b70a-ddc0-4087-8061-21d4310a1fad",
   "metadata": {},
   "outputs": [
    {
     "ename": "ModuleNotFoundError",
     "evalue": "No module named 'pandas'",
     "output_type": "error",
     "traceback": [
      "\u001b[1;31m---------------------------------------------------------------------------\u001b[0m",
      "\u001b[1;31mModuleNotFoundError\u001b[0m                       Traceback (most recent call last)",
      "Cell \u001b[1;32mIn[1], line 2\u001b[0m\n\u001b[0;32m      1\u001b[0m \u001b[39mimport\u001b[39;00m \u001b[39mnumpy\u001b[39;00m \u001b[39mas\u001b[39;00m \u001b[39mnp\u001b[39;00m\n\u001b[1;32m----> 2\u001b[0m \u001b[39mimport\u001b[39;00m \u001b[39mpandas\u001b[39;00m \u001b[39mas\u001b[39;00m \u001b[39mpd\u001b[39;00m\n",
      "\u001b[1;31mModuleNotFoundError\u001b[0m: No module named 'pandas'"
     ]
    }
   ],
   "source": [
    "import numpy as np\n",
    "import pandas as pd"
   ]
  },
  {
   "cell_type": "code",
   "execution_count": null,
   "id": "3cd0b780-a270-4d8d-a672-bdf03df857ae",
   "metadata": {},
   "outputs": [],
   "source": [
    "result_embeddings = pd.read_csv('../../Embeddings/DEEP_Image_Retrieval/caltech101_700-top-100-results-and-scores.csv')\n",
    "feedback_embeddings = pd.read_csv('../../Embeddings/DEEP_Image_Retrieval/caltech101_700-drift-top-100-results-and-scores.csv')"
   ]
  },
  {
   "cell_type": "code",
   "execution_count": null,
   "id": "4cebf47c-f9ff-437e-93d5-601c5a87ed4c",
   "metadata": {},
   "outputs": [],
   "source": [
    "def text_parse_paths(text):\n",
    "    new_text = \"\"\n",
    "    for letter in text:\n",
    "        if(not(letter in(['[',']',',']))):\n",
    "            new_text+=letter\n",
    "    new_text= np.array(new_text.split(' '))\n",
    "    return new_text"
   ]
  },
  {
   "cell_type": "code",
   "execution_count": null,
   "id": "70aa731c-ae6f-4ae2-9b25-471cd5817e67",
   "metadata": {},
   "outputs": [],
   "source": [
    "def parse_array(arr):\n",
    "    new_arr = []\n",
    "    for i in range(0,100):\n",
    "        temp_arr = arr[i*2048:(i+1)*2048]\n",
    "        new_arr.append(temp_arr)\n",
    "    \n",
    "    new_arr = np.array(new_arr)\n",
    "    return new_arr"
   ]
  },
  {
   "cell_type": "code",
   "execution_count": null,
   "id": "8d16ec2e-ea2f-4a41-a4ff-884fff7327ed",
   "metadata": {},
   "outputs": [],
   "source": [
    "def intersection_over_union(items):\n",
    "    intersection = np.array(items[0])\n",
    "    union = np.array(items[0])\n",
    "    \n",
    "    for i in range(1, len(items)):\n",
    "        intersection = np.intersect1d(intersection , items[i])\n",
    "        union = np.union1d(union, items[i])\n",
    "        \n",
    "    return len(intersection) / len(union)\n"
   ]
  },
  {
   "cell_type": "code",
   "execution_count": null,
   "id": "c8d74507-628b-49a3-a55d-4ac6c643da48",
   "metadata": {},
   "outputs": [],
   "source": [
    "scores = []\n",
    "for query_idx in range(result_embeddings.shape[0]):\n",
    "    query_path = result_embeddings.iloc[query_idx]['query_path']\n",
    "    orig_cbir_results     = text_parse_paths(result_embeddings.iloc[query_idx]['results_path'])\n",
    "    adaptive_cbir_results = text_parse_paths(feedback_embeddings.iloc[query_idx]['results_path'])\n",
    "    iou_score = intersection_over_union([orig_cbir_results,adaptive_cbir_results])\n",
    "    scores.append(iou_score)"
   ]
  },
  {
   "cell_type": "code",
   "execution_count": null,
   "id": "7da5b633-df60-4ea1-9e80-9fb681ec23f9",
   "metadata": {},
   "outputs": [],
   "source": [
    "result_df = pd.DataFrame({'path': np.array(result_embeddings['query_path']), 'score': scores})"
   ]
  },
  {
   "cell_type": "code",
   "execution_count": null,
   "id": "c4d5b792-6c1f-4d12-8fea-2ce605151409",
   "metadata": {},
   "outputs": [],
   "source": [
    "result_df.to_csv('/../../Datasets/Results/adaptivequery-deepretrieval-caltech101_700-100.csv',index=False)"
   ]
  }
 ],
 "metadata": {
  "kernelspec": {
   "display_name": "Python 3",
   "language": "python",
   "name": "python3"
  },
  "language_info": {
   "codemirror_mode": {
    "name": "ipython",
    "version": 3
   },
   "file_extension": ".py",
   "mimetype": "text/x-python",
   "name": "python",
   "nbconvert_exporter": "python",
   "pygments_lexer": "ipython3",
   "version": "3.10.5"
  },
  "vscode": {
   "interpreter": {
    "hash": "5efb5c8d63a54c73d8d27071022adad53c6f3df0ecaf8b2d6fe4415ee6c014ca"
   }
  }
 },
 "nbformat": 4,
 "nbformat_minor": 5
}
