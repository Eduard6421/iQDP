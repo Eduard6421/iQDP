{
 "cells": [
  {
   "cell_type": "code",
   "execution_count": 1,
   "id": "1a04eac7-b538-4f20-be84-7ad1e948c2cb",
   "metadata": {},
   "outputs": [],
   "source": [
    "import numpy as np\n",
    "import pandas as pd\n",
    "import pickle\n",
    "from pathlib import Path"
   ]
  },
  {
   "cell_type": "code",
   "execution_count": null,
   "id": "f2ace9aa",
   "metadata": {},
   "outputs": [],
   "source": [
    "DATASET_NAME = \"\""
   ]
  },
  {
   "cell_type": "code",
   "execution_count": 3,
   "id": "032347fb-b123-4e3e-902a-ff3fc7414fa1",
   "metadata": {},
   "outputs": [],
   "source": [
    "results_embeddings = pd.read_csv('../../Embeddings/CNN_Image_Retrieval/{}-top-100-results-and-scores.csv'.format(DATASET_NAME))"
   ]
  },
  {
   "cell_type": "code",
   "execution_count": 5,
   "id": "1e547065-e1c1-4568-8721-eebf943a492a",
   "metadata": {},
   "outputs": [],
   "source": [
    "def text_parser(text):\n",
    "    new_text = \"\"\n",
    "    for letter in text:\n",
    "        if(not(letter in(['[',']',',']))):\n",
    "            new_text+=letter\n",
    "    new_text= np.array(new_text.split(' '))\n",
    "    new_text= new_text.astype(float)\n",
    "    return new_text"
   ]
  },
  {
   "cell_type": "code",
   "execution_count": 6,
   "id": "ddae0474-4349-43f5-a060-51d3e215e6e3",
   "metadata": {},
   "outputs": [],
   "source": [
    "def parse_array(arr):\n",
    "    new_arr = []\n",
    "    for i in range(0,100):\n",
    "        temp_arr = arr[i*2048:(i+1)*2048]\n",
    "        new_arr.append(temp_arr)\n",
    "    \n",
    "    new_arr = np.array(new_arr)\n",
    "    return new_arr"
   ]
  },
  {
   "cell_type": "code",
   "execution_count": 7,
   "id": "0941efab-a498-4eed-b67e-db85deb4ea10",
   "metadata": {},
   "outputs": [],
   "source": [
    "def get_closest(searched, embedding_list):\n",
    "    smallest_distance = np.linalg.norm(searched-embedding_list[0,:])\n",
    "    current_closest_idx = 0\n",
    "\n",
    "    for embedding_idx in range(1, embedding_list.shape[0]):\n",
    "        distance = np.linalg.norm(searched - embedding_list[embedding_idx,:])\n",
    "        if(distance < smallest_distance):\n",
    "            smallest_distance = distance\n",
    "            current_closest_idx = embedding_idx\n",
    "    \n",
    "    return current_closest_idx"
   ]
  },
  {
   "cell_type": "code",
   "execution_count": 8,
   "id": "1613a598-1fff-4bc3-9c2e-4b1b860b273e",
   "metadata": {},
   "outputs": [],
   "source": [
    "closest_queries = []\n",
    "for query_idx in range(len(results_embeddings)):\n",
    "    returned_embeddings = results_embeddings.iloc[query_idx]['result_emb']\n",
    "    returned_embeddings = parse_array(text_parser(returned_embeddings))\n",
    "    avg_embed = np.mean(returned_embeddings, axis = 0)\n",
    "    closest_idx = get_closest(avg_embed, returned_embeddings)\n",
    "    closest_queries.append(closest_idx)\n",
    "    #print(query_idx+ 1)\n"
   ]
  },
  {
   "cell_type": "code",
   "execution_count": 9,
   "id": "0521e741-b489-4ba6-8a18-330ed4dd656f",
   "metadata": {},
   "outputs": [],
   "source": [
    "def text_parse_paths(text):\n",
    "    new_text = \"\"\n",
    "    for letter in text:\n",
    "        if(not(letter in(['[',']',',']))):\n",
    "            new_text+=letter\n",
    "    new_text= np.array(new_text.split(' '))\n",
    "    return new_text"
   ]
  },
  {
   "cell_type": "code",
   "execution_count": 10,
   "id": "b99a81ae-89c1-4211-a594-4c2bd11aa38e",
   "metadata": {},
   "outputs": [],
   "source": [
    "new_query_names  = []\n",
    "for query_idx in range(len(results_embeddings)):\n",
    "    image_name = text_parse_paths(results_embeddings.iloc[query_idx]['results_path'])[closest_queries[query_idx]]\n",
    "    new_query_names.append(image_name)\n",
    "\n",
    "new_query_names = [ Path(name).stem for name in new_query_names]"
   ]
  },
  {
   "cell_type": "code",
   "execution_count": 14,
   "id": "efe443bb-0e4b-4589-8f87-8af9e795c15e",
   "metadata": {},
   "outputs": [],
   "source": [
    "file = open('/../../Datasets/caltech101/gnd_caltech101_700.pkl','rb')\n",
    "new_gt_file = open('/../../Datasets/gnd_caltech101_700_drift_cnn.pkl','wb')\n",
    "gt_file = pickle.load(file)"
   ]
  },
  {
   "cell_type": "code",
   "execution_count": 15,
   "id": "98563b5c-682f-42a3-9b16-a3dc4288bffc",
   "metadata": {},
   "outputs": [],
   "source": [
    "new_gts = [{\n",
    "'bbx' : None,\n",
    "'easy' : [0],\n",
    "'hard' : [],\n",
    "'junk' : [],\n",
    "'class' : '',\n",
    "} for name in new_query_names]"
   ]
  },
  {
   "cell_type": "code",
   "execution_count": 16,
   "id": "c9ad71f9-9dbd-47ad-b616-79e87c1d9c6d",
   "metadata": {},
   "outputs": [],
   "source": [
    "new_gt_content = {\n",
    "    'qimlist' : new_query_names,\n",
    "    'imlist' : gt_file['imlist'],\n",
    "    'gnd': new_gts}"
   ]
  },
  {
   "cell_type": "code",
   "execution_count": 17,
   "id": "64ce20de-50ad-47ff-b2c2-2a722d6960ad",
   "metadata": {},
   "outputs": [],
   "source": [
    "pickle.dump(new_gt_content, new_gt_file, protocol = pickle.HIGHEST_PROTOCOL)"
   ]
  },
  {
   "cell_type": "code",
   "execution_count": 18,
   "id": "b3441495-1694-48da-8b8f-212d4f9df031",
   "metadata": {},
   "outputs": [],
   "source": [
    "file.close()\n",
    "new_gt_file.close()"
   ]
  }
 ],
 "metadata": {
  "kernelspec": {
   "display_name": "Python 3 (ipykernel)",
   "language": "python",
   "name": "python3"
  },
  "language_info": {
   "codemirror_mode": {
    "name": "ipython",
    "version": 3
   },
   "file_extension": ".py",
   "mimetype": "text/x-python",
   "name": "python",
   "nbconvert_exporter": "python",
   "pygments_lexer": "ipython3",
   "version": "3.10.5"
  },
  "vscode": {
   "interpreter": {
    "hash": "5efb5c8d63a54c73d8d27071022adad53c6f3df0ecaf8b2d6fe4415ee6c014ca"
   }
  }
 },
 "nbformat": 4,
 "nbformat_minor": 5
}
