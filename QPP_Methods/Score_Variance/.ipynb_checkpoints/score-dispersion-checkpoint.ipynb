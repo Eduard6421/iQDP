{
 "cells": [
  {
   "cell_type": "code",
   "execution_count": 1,
   "id": "ab8f847b-cae4-4909-a1a4-4b104d56900b",
   "metadata": {},
   "outputs": [],
   "source": [
    "import pandas as pd\n",
    "import numpy as np\n",
    "from sklearn.cluster import KMeans\n",
    "from sklearn.datasets import make_blobs\n",
    "from sklearn.metrics.pairwise import euclidean_distances\n",
    "from sklearn.metrics import silhouette_samples\n",
    "from ast import literal_eval"
   ]
  },
  {
   "cell_type": "code",
   "execution_count": 2,
   "id": "e644b3f6-f034-492e-9ddb-b7e2394746b8",
   "metadata": {},
   "outputs": [],
   "source": [
    "top_100_query_path = '/notebooks/Embeddings/DEEP_Image_Retrieval/caltech101_700-top-100-results-and-scores.csv'\n"
   ]
  },
  {
   "cell_type": "code",
   "execution_count": 3,
   "id": "5cdd5225-0c36-487e-b2c9-1b6bc9394e1c",
   "metadata": {},
   "outputs": [],
   "source": [
    "top_100_results = pd.read_csv(top_100_query_path)"
   ]
  },
  {
   "cell_type": "code",
   "execution_count": 4,
   "id": "1b673f6f-fc61-4937-b419-c2647959697b",
   "metadata": {},
   "outputs": [],
   "source": [
    "title = np.array(top_100_results[['query_path']].values.tolist())[:1400]"
   ]
  },
  {
   "cell_type": "code",
   "execution_count": 5,
   "id": "994af97c-0ef7-433c-a173-46718a47e48d",
   "metadata": {},
   "outputs": [],
   "source": [
    "def parse_scores(content):\n",
    "    content = content[1:]\n",
    "    content = content[:-1]\n",
    "    content = content.split()\n",
    "    content = np.array(content).astype(float)\n",
    "    return content"
   ]
  },
  {
   "cell_type": "code",
   "execution_count": 6,
   "id": "c3e45288-4650-4e3c-89a5-053c16efdab3",
   "metadata": {},
   "outputs": [
    {
     "data": {
      "text/plain": [
       "(700, 5)"
      ]
     },
     "execution_count": 6,
     "metadata": {},
     "output_type": "execute_result"
    }
   ],
   "source": [
    "top_100_results.shape"
   ]
  },
  {
   "cell_type": "code",
   "execution_count": 12,
   "id": "840b3317-1dcd-459e-882d-214af495a806",
   "metadata": {},
   "outputs": [],
   "source": [
    "cibr_scores = []\n",
    "    \n",
    "for item_id in range(top_100_results.shape[0]):\n",
    "    scores = top_100_results.iloc[item_id]['scores']\n",
    "    scores = parse_scores(scores)\n",
    "    #Takign only first 10 scores\n",
    "    scores = scores[:10]\n",
    "    difficulty_score = np.var(scores)\n",
    "    cibr_scores.append(difficulty_score)\n",
    "    \n",
    "cibr_scores = np.array(cibr_scores) "
   ]
  },
  {
   "cell_type": "code",
   "execution_count": 13,
   "id": "30679ef6-06d4-490e-b07b-9ceb953aa0ed",
   "metadata": {},
   "outputs": [
    {
     "data": {
      "text/plain": [
       "(700,)"
      ]
     },
     "execution_count": 13,
     "metadata": {},
     "output_type": "execute_result"
    }
   ],
   "source": [
    "cibr_scores.shape"
   ]
  },
  {
   "cell_type": "code",
   "execution_count": 14,
   "id": "5bf12474-9e25-440c-8291-1ec35130071f",
   "metadata": {},
   "outputs": [],
   "source": [
    "title = title.flatten()"
   ]
  },
  {
   "cell_type": "code",
   "execution_count": 15,
   "id": "53051fa6-44e3-4866-b0a1-9bd3943b610d",
   "metadata": {},
   "outputs": [],
   "source": [
    "df = pd.DataFrame({'path': title, 'score': cibr_scores})"
   ]
  },
  {
   "cell_type": "code",
   "execution_count": 16,
   "id": "7b1f3294-51fc-471d-b6ed-046f6a512e4f",
   "metadata": {},
   "outputs": [],
   "source": [
    "df.to_csv('/notebooks/Results/score-dispersion-deepretrieval-caltech101_700-10.csv')"
   ]
  },
  {
   "cell_type": "code",
   "execution_count": null,
   "id": "4f0f851a-2ad0-4618-989f-a9c65a05fd44",
   "metadata": {},
   "outputs": [],
   "source": []
  },
  {
   "cell_type": "code",
   "execution_count": null,
   "id": "ff4503fc-4d22-46b2-b65a-fbec84977205",
   "metadata": {},
   "outputs": [],
   "source": []
  }
 ],
 "metadata": {
  "kernelspec": {
   "display_name": "Python 3 (ipykernel)",
   "language": "python",
   "name": "python3"
  },
  "language_info": {
   "codemirror_mode": {
    "name": "ipython",
    "version": 3
   },
   "file_extension": ".py",
   "mimetype": "text/x-python",
   "name": "python",
   "nbconvert_exporter": "python",
   "pygments_lexer": "ipython3",
   "version": "3.10.5"
  }
 },
 "nbformat": 4,
 "nbformat_minor": 5
}
